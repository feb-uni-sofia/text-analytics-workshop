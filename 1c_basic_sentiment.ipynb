{
 "cells": [
  {
   "cell_type": "markdown",
   "source": [
    "    # Basic sentiment analysis\n",
    "\n",
    "    In this example we look at two small sets of texts grouped into two classes:\n",
    "    `positive_texts` and `negative_texts`."
   ],
   "metadata": {
    "collapsed": false
   }
  },
  {
   "cell_type": "code",
   "execution_count": 31,
   "outputs": [],
   "source": [
    "## pandas, nltk, scikit-lean\n",
    "\n",
    "import nltk\n",
    "import pandas as pd\n",
    "from sklearn.tree import DecisionTreeClassifier, plot_tree\n",
    "import matplotlib.pyplot as plt\n",
    "%matplotlib inline  \n",
    "\n",
    "positive_texts = [\n",
    "    \"we love you\",\n",
    "    \"they love us\",\n",
    "    \"you are good\",\n",
    "    \"he is good\",\n",
    "    \"they love mary\"\n",
    "]\n",
    "\n",
    "negative_texts = [\n",
    "    \"we hate you\",\n",
    "    \"they hate us\",\n",
    "    \"you are bad\",\n",
    "    \"he is bad\",\n",
    "    \"we hate mary\"\n",
    "]\n",
    "\n",
    "test_texts = [\n",
    "    \"they love mary\",\n",
    "    \"they are good\",\n",
    "    \"why do you hate mary\",\n",
    "    \"they are almost always good\",\n",
    "    \"we are very bad\"\n",
    "]"
   ],
   "metadata": {
    "collapsed": false,
    "pycharm": {
     "name": "#%%\n",
     "is_executing": false
    }
   }
  },
  {
   "cell_type": "markdown",
   "source": [
    "    Combine `negative_texts` and `positive_texts` into a single list. "
   ],
   "metadata": {
    "collapsed": false
   }
  },
  {
   "cell_type": "code",
   "execution_count": 32,
   "outputs": [
    {
     "data": {
      "text/plain": "['we love you',\n 'they love us',\n 'you are good',\n 'he is good',\n 'they love mary',\n 'we hate you',\n 'they hate us',\n 'you are bad',\n 'he is bad',\n 'we hate mary']"
     },
     "metadata": {},
     "output_type": "execute_result",
     "execution_count": 32
    }
   ],
   "source": [
    "all_texts = positive_texts + negative_texts\n",
    "all_texts"
   ],
   "metadata": {
    "collapsed": false,
    "pycharm": {
     "name": "#%%\n",
     "is_executing": false
    }
   }
  },
  {
   "cell_type": "markdown",
   "source": [
    "    Create a list of all words occuring in the texts."
   ],
   "metadata": {
    "collapsed": false
   }
  },
  {
   "cell_type": "code",
   "execution_count": 33,
   "outputs": [
    {
     "data": {
      "text/plain": "['we',\n 'love',\n 'you',\n 'they',\n 'love',\n 'us',\n 'you',\n 'are',\n 'good',\n 'he',\n 'is',\n 'good',\n 'they',\n 'love',\n 'mary',\n 'we',\n 'hate',\n 'you',\n 'they',\n 'hate',\n 'us',\n 'you',\n 'are',\n 'bad',\n 'he',\n 'is',\n 'bad',\n 'we',\n 'hate',\n 'mary']"
     },
     "metadata": {},
     "output_type": "execute_result",
     "execution_count": 33
    }
   ],
   "source": [
    "def get_words(text):\n",
    "    # return list([word for word in text.split(' ')])\n",
    "    for word in text.split(' '):\n",
    "        yield word\n",
    "        \n",
    "all_words = [word for text in all_texts for word in get_words(text)]\n",
    "all_words"
   ],
   "metadata": {
    "collapsed": false,
    "pycharm": {
     "name": "#%%\n",
     "is_executing": false
    }
   }
  },
  {
   "cell_type": "markdown",
   "source": [
    "    What are the unique words use in the texts?"
   ],
   "metadata": {
    "collapsed": false
   }
  },
  {
   "cell_type": "code",
   "execution_count": 34,
   "outputs": [
    {
     "data": {
      "text/plain": "['mary',\n 'he',\n 'bad',\n 'good',\n 'are',\n 'love',\n 'is',\n 'they',\n 'hate',\n 'us',\n 'you',\n 'we']"
     },
     "metadata": {},
     "output_type": "execute_result",
     "execution_count": 34
    }
   ],
   "source": [
    "unique_words = list(set(all_words))\n",
    "unique_words\n"
   ],
   "metadata": {
    "collapsed": false,
    "pycharm": {
     "name": "#%%\n",
     "is_executing": false
    }
   }
  },
  {
   "cell_type": "markdown",
   "source": [
    "    Calculate the frequency distribution of words using nltk.FreqDist. Tabulate the\n",
    "    result and plot the distribution of the 5 most common words."
   ],
   "metadata": {
    "collapsed": false
   }
  },
  {
   "cell_type": "code",
   "execution_count": 35,
   "outputs": [
    {
     "name": "stdout",
     "text": [
      " you   we love they hate   us  are good   he   is mary  bad \n   4    3    3    3    3    2    2    2    2    2    2    2 \n"
     ],
     "output_type": "stream"
    }
   ],
   "source": [
    "word_freqs = nltk.FreqDist(all_words)\n",
    "word_freqs.tabulate()\n",
    "# word_freqs.plot(5, cumulative=False)"
   ],
   "metadata": {
    "collapsed": false,
    "pycharm": {
     "name": "#%%\n",
     "is_executing": false
    }
   }
  },
  {
   "cell_type": "markdown",
   "source": [
    "    What are the 3 most common words? "
   ],
   "metadata": {
    "collapsed": false
   }
  },
  {
   "cell_type": "code",
   "execution_count": 36,
   "outputs": [
    {
     "data": {
      "text/plain": "[('you', 4), ('we', 3), ('love', 3)]"
     },
     "metadata": {},
     "output_type": "execute_result",
     "execution_count": 36
    }
   ],
   "source": [
    "word_freqs.most_common(3)\n"
   ],
   "metadata": {
    "collapsed": false,
    "pycharm": {
     "name": "#%%\n",
     "is_executing": false
    }
   }
  },
  {
   "cell_type": "markdown",
   "source": [
    "    In what percent of the text does the word \"mary\" occur?"
   ],
   "metadata": {
    "collapsed": false
   }
  },
  {
   "cell_type": "code",
   "execution_count": 37,
   "outputs": [
    {
     "data": {
      "text/plain": "0.06666666666666667"
     },
     "metadata": {},
     "output_type": "execute_result",
     "execution_count": 37
    }
   ],
   "source": [
    "word_freqs.freq('mary')"
   ],
   "metadata": {
    "collapsed": false,
    "pycharm": {
     "name": "#%%\n",
     "is_executing": false
    }
   }
  },
  {
   "cell_type": "markdown",
   "source": [
    "    Write a function that creates a vector of the same length as \n",
    "    the number of unique words for each text. At each index the list\n",
    "    should have value 1 if the vocabulary word is contained in the text\n",
    "    and zero otherwise."
   ],
   "metadata": {
    "collapsed": false
   }
  },
  {
   "cell_type": "code",
   "execution_count": 38,
   "outputs": [
    {
     "data": {
      "text/plain": "   mary  he  bad  good  are  love  is  they  hate  us  you  we\n0     0   0    0     0    0     1   0     0     0   0    1   0\n1     0   0    0     0    0     1   0     1     0   1    0   0\n2     0   0    0     1    1     0   0     0     0   0    1   0\n3     0   1    0     1    0     0   1     0     0   0    0   0\n4     1   0    0     0    0     1   0     1     0   0    0   0\n5     0   0    0     0    0     0   0     0     1   0    1   0\n6     0   0    0     0    0     0   0     1     1   1    0   0\n7     0   0    1     0    1     0   0     0     0   0    1   0\n8     0   1    1     0    0     0   1     0     0   0    0   0\n9     1   0    0     0    0     0   0     0     1   0    0   0",
      "text/html": "<div>\n<style scoped>\n    .dataframe tbody tr th:only-of-type {\n        vertical-align: middle;\n    }\n\n    .dataframe tbody tr th {\n        vertical-align: top;\n    }\n\n    .dataframe thead th {\n        text-align: right;\n    }\n</style>\n<table border=\"1\" class=\"dataframe\">\n  <thead>\n    <tr style=\"text-align: right;\">\n      <th></th>\n      <th>mary</th>\n      <th>he</th>\n      <th>bad</th>\n      <th>good</th>\n      <th>are</th>\n      <th>love</th>\n      <th>is</th>\n      <th>they</th>\n      <th>hate</th>\n      <th>us</th>\n      <th>you</th>\n      <th>we</th>\n    </tr>\n  </thead>\n  <tbody>\n    <tr>\n      <th>0</th>\n      <td>0</td>\n      <td>0</td>\n      <td>0</td>\n      <td>0</td>\n      <td>0</td>\n      <td>1</td>\n      <td>0</td>\n      <td>0</td>\n      <td>0</td>\n      <td>0</td>\n      <td>1</td>\n      <td>0</td>\n    </tr>\n    <tr>\n      <th>1</th>\n      <td>0</td>\n      <td>0</td>\n      <td>0</td>\n      <td>0</td>\n      <td>0</td>\n      <td>1</td>\n      <td>0</td>\n      <td>1</td>\n      <td>0</td>\n      <td>1</td>\n      <td>0</td>\n      <td>0</td>\n    </tr>\n    <tr>\n      <th>2</th>\n      <td>0</td>\n      <td>0</td>\n      <td>0</td>\n      <td>1</td>\n      <td>1</td>\n      <td>0</td>\n      <td>0</td>\n      <td>0</td>\n      <td>0</td>\n      <td>0</td>\n      <td>1</td>\n      <td>0</td>\n    </tr>\n    <tr>\n      <th>3</th>\n      <td>0</td>\n      <td>1</td>\n      <td>0</td>\n      <td>1</td>\n      <td>0</td>\n      <td>0</td>\n      <td>1</td>\n      <td>0</td>\n      <td>0</td>\n      <td>0</td>\n      <td>0</td>\n      <td>0</td>\n    </tr>\n    <tr>\n      <th>4</th>\n      <td>1</td>\n      <td>0</td>\n      <td>0</td>\n      <td>0</td>\n      <td>0</td>\n      <td>1</td>\n      <td>0</td>\n      <td>1</td>\n      <td>0</td>\n      <td>0</td>\n      <td>0</td>\n      <td>0</td>\n    </tr>\n    <tr>\n      <th>5</th>\n      <td>0</td>\n      <td>0</td>\n      <td>0</td>\n      <td>0</td>\n      <td>0</td>\n      <td>0</td>\n      <td>0</td>\n      <td>0</td>\n      <td>1</td>\n      <td>0</td>\n      <td>1</td>\n      <td>0</td>\n    </tr>\n    <tr>\n      <th>6</th>\n      <td>0</td>\n      <td>0</td>\n      <td>0</td>\n      <td>0</td>\n      <td>0</td>\n      <td>0</td>\n      <td>0</td>\n      <td>1</td>\n      <td>1</td>\n      <td>1</td>\n      <td>0</td>\n      <td>0</td>\n    </tr>\n    <tr>\n      <th>7</th>\n      <td>0</td>\n      <td>0</td>\n      <td>1</td>\n      <td>0</td>\n      <td>1</td>\n      <td>0</td>\n      <td>0</td>\n      <td>0</td>\n      <td>0</td>\n      <td>0</td>\n      <td>1</td>\n      <td>0</td>\n    </tr>\n    <tr>\n      <th>8</th>\n      <td>0</td>\n      <td>1</td>\n      <td>1</td>\n      <td>0</td>\n      <td>0</td>\n      <td>0</td>\n      <td>1</td>\n      <td>0</td>\n      <td>0</td>\n      <td>0</td>\n      <td>0</td>\n      <td>0</td>\n    </tr>\n    <tr>\n      <th>9</th>\n      <td>1</td>\n      <td>0</td>\n      <td>0</td>\n      <td>0</td>\n      <td>0</td>\n      <td>0</td>\n      <td>0</td>\n      <td>0</td>\n      <td>1</td>\n      <td>0</td>\n      <td>0</td>\n      <td>0</td>\n    </tr>\n  </tbody>\n</table>\n</div>"
     },
     "metadata": {},
     "output_type": "execute_result",
     "execution_count": 38
    }
   ],
   "source": [
    "def vectorize_text(text):\n",
    "    text_vec = [0] * len(unique_words)\n",
    "    text_words = text.split(' ')\n",
    "    \n",
    "    for i in range(len(unique_words) - 1):\n",
    "        unique_word = unique_words[i]\n",
    "        if unique_word in text_words:\n",
    "            text_vec[i] = 1\n",
    "    \n",
    "    return text_vec\n",
    "\n",
    "def vectorize_collection(col):\n",
    "    return list(map(vectorize_text, col))\n",
    "\n",
    "text_vectors = vectorize_collection(all_texts)\n",
    "text_vectors_df = pd.DataFrame(text_vectors, columns = unique_words)\n",
    "text_vectors_df"
   ],
   "metadata": {
    "collapsed": false,
    "pycharm": {
     "name": "#%%\n",
     "is_executing": false
    }
   }
  },
  {
   "cell_type": "markdown",
   "source": [
    "    Create a new list `labels`\n",
    "    that contains \"positive\" for positive texts and \"negative\" for negative texts. "
   ],
   "metadata": {
    "collapsed": false
   }
  },
  {
   "cell_type": "code",
   "execution_count": 39,
   "outputs": [
    {
     "data": {
      "text/plain": "['positive',\n 'positive',\n 'positive',\n 'positive',\n 'positive',\n 'negative',\n 'negative',\n 'negative',\n 'negative',\n 'negative']"
     },
     "metadata": {},
     "output_type": "execute_result",
     "execution_count": 39
    }
   ],
   "source": [
    "labels = [\"positive\"] * len(negative_texts) + [\"negative\"] * len(positive_texts)\n",
    "labels"
   ],
   "metadata": {
    "collapsed": false,
    "pycharm": {
     "name": "#%%\n",
     "is_executing": false
    }
   }
  },
  {
   "cell_type": "markdown",
   "source": [
    "    Train a classification tree (use default settings) on the vectorized texts"
   ],
   "metadata": {
    "collapsed": false
   }
  },
  {
   "cell_type": "code",
   "execution_count": 43,
   "outputs": [
    {
     "name": "stdout",
     "text": [
      "['negative' 'positive']\n"
     ],
     "output_type": "stream"
    },
    {
     "data": {
      "text/plain": "[Text(200.88000000000002, 181.2, 'X[8] <= 0.5\\ngini = 0.5\\nsamples = 10\\nvalue = [5, 5]'),\n Text(133.92000000000002, 108.72, 'X[2] <= 0.5\\ngini = 0.408\\nsamples = 7\\nvalue = [2, 5]'),\n Text(66.96000000000001, 36.23999999999998, 'gini = 0.0\\nsamples = 5\\nvalue = [0, 5]'),\n Text(200.88000000000002, 36.23999999999998, 'gini = 0.0\\nsamples = 2\\nvalue = [2, 0]'),\n Text(267.84000000000003, 108.72, 'gini = 0.0\\nsamples = 3\\nvalue = [3, 0]')]"
     },
     "metadata": {},
     "output_type": "execute_result",
     "execution_count": 43
    },
    {
     "data": {
      "text/plain": "<Figure size 432x288 with 1 Axes>",
      "image/png": "[encoded data removed]"
     },
     "metadata": {
      "needs_background": "light"
     },
     "output_type": "display_data"
    }
   ],
   "source": [
    "classifier = DecisionTreeClassifier(random_state=0)\n",
    "classifier.fit(text_vectors, labels)\n",
    "# print(unique_words)\n",
    "print(classifier.classes_)\n",
    "\n",
    "plot_tree(classifier)"
   ],
   "metadata": {
    "collapsed": false,
    "pycharm": {
     "name": "#%%\n",
     "is_executing": false
    }
   }
  },
  {
   "cell_type": "markdown",
   "source": [
    "    Predict the class of the test texts."
   ],
   "metadata": {
    "collapsed": false
   }
  },
  {
   "cell_type": "code",
   "execution_count": 41,
   "outputs": [
    {
     "data": {
      "text/plain": "array(['positive', 'positive', 'negative', 'positive', 'negative'],\n      dtype='<U8')"
     },
     "metadata": {},
     "output_type": "execute_result",
     "execution_count": 41
    }
   ],
   "source": [
    "test_texts = [\n",
    "    \"they love mary\",\n",
    "    \"they are good\",\n",
    "    \"why do you hate mary\",\n",
    "    \"they are almost always good\",\n",
    "    \"we are very bad\"\n",
    "]\n",
    "\n",
    "test_text_vectors = vectorize_collection(test_texts)\n",
    "\n",
    "\n",
    "predictions = classifier.predict(test_text_vectors)\n",
    "predictions"
   ],
   "metadata": {
    "collapsed": false,
    "pycharm": {
     "name": "#%%\n",
     "is_executing": false
    }
   }
  }
 ],
 "metadata": {
  "kernelspec": {
   "display_name": "Python 3",
   "language": "python",
   "name": "python3"
  },
  "language_info": {
   "codemirror_mode": {
    "name": "ipython",
    "version": 2
   },
   "file_extension": ".py",
   "mimetype": "text/x-python",
   "name": "python",
   "nbconvert_exporter": "python",
   "pygments_lexer": "ipython2",
   "version": "2.7.6"
  },
  "pycharm": {
   "stem_cell": {
    "cell_type": "raw",
    "source": [],
    "metadata": {
     "collapsed": false
    }
   }
  }
 },
 "nbformat": 4,
 "nbformat_minor": 0
}