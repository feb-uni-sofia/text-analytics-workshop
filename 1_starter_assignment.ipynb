{
 "cells": [
  {
   "cell_type": "markdown",
   "source": [
    "# Simple example\n",
    "\n",
    "## Setup\n",
    "\n",
    "Read the data `./data/ballet.txt` and define two sets of words: male words and female words."
   ],
   "metadata": {
    "collapsed": false
   }
  },
  {
   "cell_type": "code",
   "execution_count": 58,
   "outputs": [],
   "source": [
    "from collections import Counter\n",
    "\n",
    "with open('./data/ballet.txt', 'r', encoding=\"utf-8\") as f:\n",
    "    article = f.read()\n",
    "\n",
    "\n",
    "MALE_WORDS = set([\n",
    "    'guy', 'spokesman', 'chairman', \"men's\", 'men', 'him', \"he's\", 'his',\n",
    "    'boy', 'boyfriend', 'boyfriends', 'boys', 'brother', 'brothers', 'dad',\n",
    "    'dads', 'dude', 'father', 'fathers', 'fiance', 'gentleman', 'gentlemen',\n",
    "    'god', 'grandfather', 'grandpa', 'grandson', 'groom', 'he', 'himself',\n",
    "    'husband', 'husbands', 'king', 'male', 'man', 'mr', 'nephew', 'nephews',\n",
    "    'priest', 'prince', 'son', 'sons', 'uncle', 'uncles', 'waiter', 'widower',\n",
    "    'widowers'\n",
    "])\n",
    "\n",
    "FEMALE_WORDS = set([\n",
    "    'heroine', 'spokeswoman', 'chairwoman', \"women's\", 'actress', 'women',\n",
    "    \"she's\", 'her', 'aunt', 'aunts', 'bride', 'daughter', 'daughters', 'female',\n",
    "    'fiancee', 'girl', 'girlfriend', 'girlfriends', 'girls', 'goddess',\n",
    "    'granddaughter', 'grandma', 'grandmother', 'herself', 'ladies', 'lady',\n",
    "    'mom', 'moms', 'mother', 'mothers', 'mrs', 'ms', 'niece', 'nieces',\n",
    "    'priestess', 'princess', 'queens', 'she', 'sister', 'sisters', 'waitress',\n",
    "    'widow', 'widows', 'wife', 'wives', 'woman'\n",
    "])"
   ],
   "metadata": {
    "collapsed": false,
    "pycharm": {
     "name": "#%%\n",
     "is_executing": false
    }
   }
  },
  {
   "cell_type": "markdown",
   "source": [
    "    Define a function to classify each sentence in the article into one of four\n",
    "    categories: 'male', 'female', 'mixed', 'unknown'."
   ],
   "metadata": {
    "collapsed": false
   }
  },
  {
   "cell_type": "code",
   "execution_count": 59,
   "outputs": [],
   "source": [
    "def classify_sentence_gender(sentence):\n",
    "    words = sentence.split(' ')\n",
    "    female_words = len(FEMALE_WORDS.intersection(words))\n",
    "    male_words =  len(MALE_WORDS.intersection(words))\n",
    "    \n",
    "    if (male_words > 0 and female_words == 0):\n",
    "        return 'male'\n",
    "    if (male_words == 0 and female_words > 0):\n",
    "        return 'female'\n",
    "    if (male_words == 0 and female_words == 0):\n",
    "        return 'unknown'\n",
    "    \n",
    "    return 'mixed'\n",
    "\n",
    "article_sentences = article.split('.')\n",
    "\n",
    "categories = map(classify_sentence_gender, article_sentences)"
   ],
   "metadata": {
    "collapsed": false,
    "pycharm": {
     "name": "#%%\n",
     "is_executing": false
    }
   }
  },
  {
   "cell_type": "markdown",
   "source": [
    "    Summarise categories"
   ],
   "metadata": {
    "collapsed": false
   }
  },
  {
   "cell_type": "code",
   "execution_count": 60,
   "outputs": [
    {
     "data": {
      "text/plain": "Counter({'unknown': 120, 'female': 42, 'male': 4, 'mixed': 1})"
     },
     "metadata": {},
     "output_type": "execute_result",
     "execution_count": 60
    }
   ],
   "source": [
    "counter = Counter(categories)\n",
    "counter\n",
    "\n",
    "## parse_gender(article)"
   ],
   "metadata": {
    "collapsed": false,
    "pycharm": {
     "name": "#%%\n",
     "is_executing": false
    }
   }
  }
 ],
 "metadata": {
  "kernelspec": {
   "display_name": "Python 3",
   "language": "python",
   "name": "python3"
  },
  "language_info": {
   "codemirror_mode": {
    "name": "ipython",
    "version": 2
   },
   "file_extension": ".py",
   "mimetype": "text/x-python",
   "name": "python",
   "nbconvert_exporter": "python",
   "pygments_lexer": "ipython2",
   "version": "2.7.6"
  },
  "pycharm": {
   "stem_cell": {
    "cell_type": "raw",
    "source": [],
    "metadata": {
     "collapsed": false
    }
   }
  }
 },
 "nbformat": 4,
 "nbformat_minor": 0
}