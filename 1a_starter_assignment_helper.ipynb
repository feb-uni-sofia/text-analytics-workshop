{
 "cells": [
  {
   "cell_type": "markdown",
   "source": [
    "# Starter example helper\n",
    "\n",
    "Get a list of sentences by splitting the paragraph on '.'."
   ],
   "metadata": {
    "collapsed": false
   }
  },
  {
   "cell_type": "code",
   "execution_count": 33,
   "metadata": {
    "collapsed": true,
    "pycharm": {
     "is_executing": false
    }
   },
   "outputs": [
    {
     "data": {
      "text/plain": "['Spending a week shadowing Ms',\n ' Kretzschmar was exhausting — she gave new meaning to the idea of being on your feet all day',\n ' Twelve-hour days at the David H',\n ' Koch Theater, the company’s Lincoln Center home, were hardly unusual: Company class each morning was followed by back-to-back-to-back rehearsals, with occasional breaks for costume fittings or physical therapy, and then by the hair-makeup-costume-dance routine of daily performances',\n '']"
     },
     "metadata": {},
     "output_type": "execute_result",
     "execution_count": 33
    }
   ],
   "source": [
    "FEMALE_WORDS_MINI = set(['she', \"her\"])\n",
    "MALE_WORDS_MINI= set([\"he\", \"his\"])\n",
    "\n",
    "PARAGRAPH =  \"Spending a week shadowing Ms. Kretzschmar was exhausting — she gave new meaning to the idea of being on your feet all day.\" \\\n",
    "                  \" Twelve-hour days at the David H. Koch Theater, the company’s Lincoln Center home, were hardly unusual: Company class each morning was followed by back-to-back-to-back rehearsals,\" \\\n",
    "                  \" with occasional breaks for costume fittings or physical therapy, and then by the hair-makeup-costume-dance routine of daily performances.\"\n",
    "\n",
    "sentences_naive = PARAGRAPH.split('.')\n",
    "sentences_naive"
   ]
  },
  {
   "cell_type": "markdown",
   "source": [
    "Check how many words in the sentence are found in the vocabulary (FEMALE_WORDS_MINI). \n",
    "Split the sentence string on whitespace to get a list of words."
   ],
   "metadata": {
    "collapsed": false
   }
  },
  {
   "cell_type": "code",
   "execution_count": 34,
   "outputs": [
    {
     "data": {
      "text/plain": "['Spending', 'a', 'week', 'shadowing', 'Ms']"
     },
     "metadata": {},
     "output_type": "execute_result",
     "execution_count": 34
    }
   ],
   "source": [
    "sentence1_words = sentences_naive[0].split(' ')\n",
    "sentence1_words"
   ],
   "metadata": {
    "collapsed": false,
    "pycharm": {
     "name": "#%%\n",
     "is_executing": false
    }
   }
  },
  {
   "cell_type": "markdown",
   "source": [
    "    Check if each word is in FEMALE_WORDS_MINI\n",
    "intersection = FEMALE_WORDS_MINI.intersection(sentence1_words)"
   ],
   "metadata": {
    "collapsed": false
   }
  },
  {
   "cell_type": "code",
   "execution_count": 35,
   "outputs": [],
   "source": [
    "female_words_in_sentence1 = FEMALE_WORDS_MINI.intersection(sentence1_words)\n",
    "male_words_in_sentence1 =  MALE_WORDS_MINI.intersection(sentence1_words)"
   ],
   "metadata": {
    "collapsed": false,
    "pycharm": {
     "name": "#%%\n",
     "is_executing": false
    }
   }
  },
  {
   "cell_type": "markdown",
   "source": [
    "    Sentence categories\n",
    "    "
   ],
   "metadata": {
    "collapsed": false
   }
  },
  {
   "cell_type": "code",
   "execution_count": 36,
   "outputs": [
    {
     "data": {
      "text/plain": "['unknown', 'female', 'unknown', 'unknown', 'unknown']"
     },
     "metadata": {},
     "output_type": "execute_result",
     "execution_count": 36
    }
   ],
   "source": [
    "def classify_sentence_gender(sentence):\n",
    "    words = sentence.split(' ')\n",
    "    female_words = len(FEMALE_WORDS_MINI.intersection(words))\n",
    "    male_words =  len(MALE_WORDS_MINI.intersection(words))\n",
    "    \n",
    "    if (male_words > 0 and female_words == 0):\n",
    "        return 'male'\n",
    "    if (male_words == 0 and female_words > 0):\n",
    "        return 'female'\n",
    "    if (male_words == 0 and female_words == 0):\n",
    "        return 'unknown'\n",
    "    \n",
    "    return 'mixed'\n",
    "categories = list(map(classify_sentence_gender, sentences_naive))\n",
    "categories"
   ],
   "metadata": {
    "collapsed": false,
    "pycharm": {
     "name": "#%%\n",
     "is_executing": false
    }
   }
  },
  {
   "cell_type": "markdown",
   "source": [
    "    Print which words from FEMALE_WORDS_MINI are found in the sentence."
   ],
   "metadata": {
    "collapsed": false
   }
  },
  {
   "cell_type": "code",
   "execution_count": 36,
   "outputs": [],
   "source": [],
   "metadata": {
    "collapsed": false,
    "pycharm": {
     "name": "#%%\n",
     "is_executing": false
    }
   }
  }
 ],
 "metadata": {
  "kernelspec": {
   "display_name": "Python 3",
   "language": "python",
   "name": "python3"
  },
  "language_info": {
   "codemirror_mode": {
    "name": "ipython",
    "version": 2
   },
   "file_extension": ".py",
   "mimetype": "text/x-python",
   "name": "python",
   "nbconvert_exporter": "python",
   "pygments_lexer": "ipython2",
   "version": "2.7.6"
  },
  "pycharm": {
   "stem_cell": {
    "cell_type": "raw",
    "source": [],
    "metadata": {
     "collapsed": false
    }
   }
  }
 },
 "nbformat": 4,
 "nbformat_minor": 0
}