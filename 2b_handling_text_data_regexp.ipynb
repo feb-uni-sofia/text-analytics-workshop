{
 "cells": [
  {
   "cell_type": "markdown",
   "source": [
    "  # Regular expressions\n",
    "  \n",
    "  Often the basic tools from the previous section will not be enough for text processing.\n",
    "  Regular expressions are extremely useful for handling complex text manipulation. We will\n",
    "  demonstrate a few common cases when pre-processing data for analysis.\n",
    "  \n",
    "  An concise introduction to regular expressions in python is available [here](https://docs.python.org/3/howto/regex.html).\n",
    "  You can find a more detailed description [here](https://docs.python.org/3/library/re.html)\n"
   ],
   "metadata": {
    "collapsed": false
   }
  },
  {
   "cell_type": "markdown",
   "source": [
    "    As a first example let us try finding all callout tags in the first tweet"
   ],
   "metadata": {
    "collapsed": false
   }
  },
  {
   "cell_type": "code",
   "execution_count": 42,
   "outputs": [
    {
     "data": {
      "text/plain": "['@WhiteHouse', '@', '@EddieRispone!']"
     },
     "metadata": {},
     "output_type": "execute_result",
     "execution_count": 42
    }
   ],
   "source": [
    "import re\n",
    "\n",
    "with open('./data/tweets_hashtags_callouts.txt', 'r') as f:\n",
    "    tweets =  f.readlines()\n",
    "    \n",
    "tweets = list([tweet.rstrip() for tweet in tweets])\n",
    "tweet = tweets[0]\n",
    "tweet_words = tweet.split(' ')\n",
    "\n",
    "callouts = [word for word in tweet_words if word.startswith('@')]\n",
    "callouts\n"
   ],
   "metadata": {
    "collapsed": false,
    "pycharm": {
     "name": "#%%\n",
     "is_executing": false
    }
   }
  },
  {
   "cell_type": "markdown",
   "source": [
    "    Find only words that starts with @ and have some other characters after that."
   ],
   "metadata": {
    "collapsed": false
   }
  },
  {
   "cell_type": "code",
   "execution_count": 43,
   "outputs": [
    {
     "data": {
      "text/plain": "['@WhiteHouse', '@EddieRispone!']"
     },
     "metadata": {},
     "output_type": "execute_result",
     "execution_count": 43
    }
   ],
   "source": [
    "callouts1 = [word for word in tweet_words if re.search(\"@[A-Za-z0-9]+\", word)]\n",
    "callouts1"
   ],
   "metadata": {
    "collapsed": false,
    "pycharm": {
     "name": "#%%\n",
     "is_executing": false
    }
   }
  },
  {
   "cell_type": "markdown",
   "source": [
    "    Find a digit in a string"
   ],
   "metadata": {
    "collapsed": false
   }
  },
  {
   "cell_type": "code",
   "execution_count": 44,
   "outputs": [
    {
     "data": {
      "text/plain": "24"
     },
     "metadata": {},
     "output_type": "execute_result",
     "execution_count": 44
    }
   ],
   "source": [
    "match_digit = re.search(\"[0-9]+\", \"A string with a digit 0.\")\n",
    "match_digit.endpos\n"
   ],
   "metadata": {
    "collapsed": false,
    "pycharm": {
     "name": "#%%\n",
     "is_executing": false
    }
   }
  },
  {
   "cell_type": "markdown",
   "source": [
    "    Using groups"
   ],
   "metadata": {
    "collapsed": false
   }
  },
  {
   "cell_type": "code",
   "execution_count": 45,
   "outputs": [
    {
     "data": {
      "text/plain": "[('2', 'km'), ('60', 'minutes')]"
     },
     "metadata": {},
     "output_type": "execute_result",
     "execution_count": 45
    }
   ],
   "source": [
    "match_groups = re.findall(\"([0-9]+)\\s*(\\w+)\", \"The fox had travelled 2 km after 60 minutes.\")\n",
    "match_groups"
   ],
   "metadata": {
    "collapsed": false,
    "pycharm": {
     "name": "#%%\n",
     "is_executing": false
    }
   }
  },
  {
   "cell_type": "markdown",
   "source": [
    " ## Regular expressions for dates\n",
    " \n",
    " A regular expression to match a date string within the sentence."
   ],
   "metadata": {
    "collapsed": false
   }
  },
  {
   "cell_type": "code",
   "execution_count": 50,
   "outputs": [
    {
     "data": {
      "text/plain": "'Found year: 2019, month: 11, day: 16'"
     },
     "metadata": {},
     "output_type": "execute_result",
     "execution_count": 50
    }
   ],
   "source": [
    "date_str1 = \"The course started on 2019-11-16 at approximately 10 am.\"\n",
    "date_match = re.search('(\\d{4})-(\\d{2})-(\\d{2})', date_str1)\n",
    "\n",
    "\"Found year: {}, month: {}, day: {}\".format(*date_match.groups())\n",
    " "
   ],
   "metadata": {
    "collapsed": false,
    "pycharm": {
     "name": "#%%\n",
     "is_executing": false
    }
   }
  },
  {
   "cell_type": "markdown",
   "source": [
    "    Using named groups"
   ],
   "metadata": {
    "collapsed": false
   }
  },
  {
   "cell_type": "code",
   "execution_count": 51,
   "outputs": [
    {
     "data": {
      "text/plain": "'Found year: 2019, month: 11, day: 16'"
     },
     "metadata": {},
     "output_type": "execute_result",
     "execution_count": 51
    }
   ],
   "source": [
    "date_str1 = \"The course started on 2019-11-16 at approximately 10 am. The next course will take place at 12 am on 2019-11-17.\"\n",
    "date_match_named = re.search(r'(?P<year>\\d{4})-(?P<month>\\d{2})-(?P<day>\\d{2})', date_str1)\n",
    "\n",
    "match_dict = date_match_named.groupdict()\n",
    "\"Found year: {year}, month: {month}, day: {day}\".format(**match_dict)\n",
    "\n"
   ],
   "metadata": {
    "collapsed": false,
    "pycharm": {
     "name": "#%%\n",
     "is_executing": false
    }
   }
  }
 ],
 "metadata": {
  "kernelspec": {
   "name": "python3",
   "language": "python",
   "display_name": "Python 3"
  },
  "language_info": {
   "codemirror_mode": {
    "name": "ipython",
    "version": 2
   },
   "file_extension": ".py",
   "mimetype": "text/x-python",
   "name": "python",
   "nbconvert_exporter": "python",
   "pygments_lexer": "ipython2",
   "version": "2.7.6"
  },
  "pycharm": {
   "stem_cell": {
    "cell_type": "raw",
    "source": [],
    "metadata": {
     "collapsed": false
    }
   }
  }
 },
 "nbformat": 4,
 "nbformat_minor": 0
}