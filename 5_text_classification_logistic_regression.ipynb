{
 "cells": [
  {
   "cell_type": "markdown",
   "source": [
    "# Case Study: Sentiment Analysis"
   ],
   "metadata": {
    "collapsed": false
   }
  },
  {
   "cell_type": "markdown",
   "source": [
    "### Setup\n",
    "\n",
    "Import modules, read data"
   ],
   "metadata": {
    "collapsed": false,
    "pycharm": {
     "name": "#%% md\n",
     "is_executing": false
    }
   }
  },
  {
   "cell_type": "code",
   "source": [
    "import pandas as pd\n",
    "import numpy as np\n",
    "import seaborn as sns\n",
    "from sklearn.model_selection import train_test_split\n",
    "from sklearn.feature_extraction.text import CountVectorizer\n",
    "from sklearn.linear_model import LogisticRegression\n",
    "from sklearn.metrics import roc_auc_score, roc_curve\n",
    "from sklearn.feature_extraction.text import TfidfVectorizer\n",
    "import matplotlib.pyplot as plt\n",
    "%matplotlib inline\n",
    "\n",
    "sns.set()\n",
    "\n",
    "# Read in the data\n",
    "df = pd.read_csv('./data/reviews.csv')\n",
    "# Sample the data to speed up computation\n",
    "# Comment out this line to match with lecture\n",
    "\n",
    "df.head(3)"
   ],
   "metadata": {
    "collapsed": false,
    "pycharm": {
     "name": "#%%\n",
     "is_executing": false
    }
   },
   "execution_count": 1,
   "outputs": [
    {
     "data": {
      "text/plain": "   Unnamed: 0                                       Product Name Brand Name  \\\n0      394349  Sony XPERIA Z2 D6503 FACTORY UNLOCKED Internat...        NaN   \n1       34377      Apple iPhone 5c 8GB (Pink) - Verizon Wireless      Apple   \n2      248521  Motorola Droid RAZR MAXX XT912 M Verizon Smart...   Motorola   \n\n    Price  Rating                                            Reviews  \\\n0  244.95       5  Very good one! Better than Samsung S and iphon...   \n1  194.99       1  The phone needed a SIM card, would have been n...   \n2  174.99       5  I was 3 months away from my upgrade and my Str...   \n\n   Review Votes  \n0           0.0  \n1           1.0  \n2           3.0  ",
      "text/html": "<div>\n<style scoped>\n    .dataframe tbody tr th:only-of-type {\n        vertical-align: middle;\n    }\n\n    .dataframe tbody tr th {\n        vertical-align: top;\n    }\n\n    .dataframe thead th {\n        text-align: right;\n    }\n</style>\n<table border=\"1\" class=\"dataframe\">\n  <thead>\n    <tr style=\"text-align: right;\">\n      <th></th>\n      <th>Unnamed: 0</th>\n      <th>Product Name</th>\n      <th>Brand Name</th>\n      <th>Price</th>\n      <th>Rating</th>\n      <th>Reviews</th>\n      <th>Review Votes</th>\n    </tr>\n  </thead>\n  <tbody>\n    <tr>\n      <th>0</th>\n      <td>394349</td>\n      <td>Sony XPERIA Z2 D6503 FACTORY UNLOCKED Internat...</td>\n      <td>NaN</td>\n      <td>244.95</td>\n      <td>5</td>\n      <td>Very good one! Better than Samsung S and iphon...</td>\n      <td>0.0</td>\n    </tr>\n    <tr>\n      <th>1</th>\n      <td>34377</td>\n      <td>Apple iPhone 5c 8GB (Pink) - Verizon Wireless</td>\n      <td>Apple</td>\n      <td>194.99</td>\n      <td>1</td>\n      <td>The phone needed a SIM card, would have been n...</td>\n      <td>1.0</td>\n    </tr>\n    <tr>\n      <th>2</th>\n      <td>248521</td>\n      <td>Motorola Droid RAZR MAXX XT912 M Verizon Smart...</td>\n      <td>Motorola</td>\n      <td>174.99</td>\n      <td>5</td>\n      <td>I was 3 months away from my upgrade and my Str...</td>\n      <td>3.0</td>\n    </tr>\n  </tbody>\n</table>\n</div>"
     },
     "metadata": {},
     "output_type": "execute_result",
     "execution_count": 1
    }
   ]
  },
  {
   "cell_type": "code",
   "execution_count": 2,
   "outputs": [
    {
     "data": {
      "text/plain": "   Unnamed: 0                                       Product Name Brand Name  \\\n1       34377      Apple iPhone 5c 8GB (Pink) - Verizon Wireless      Apple   \n2      248521  Motorola Droid RAZR MAXX XT912 M Verizon Smart...   Motorola   \n3      167661  CNPGD [U.S. Office Extended Warranty] Smartwat...      CNPGD   \n\n    Price  Rating                                            Reviews  \\\n1  194.99       1  The phone needed a SIM card, would have been n...   \n2  174.99       5  I was 3 months away from my upgrade and my Str...   \n3   49.99       1                     an experience i want to forget   \n\n   Review Votes  Positively Rated  \n1           1.0                 0  \n2           3.0                 1  \n3           0.0                 0  ",
      "text/html": "<div>\n<style scoped>\n    .dataframe tbody tr th:only-of-type {\n        vertical-align: middle;\n    }\n\n    .dataframe tbody tr th {\n        vertical-align: top;\n    }\n\n    .dataframe thead th {\n        text-align: right;\n    }\n</style>\n<table border=\"1\" class=\"dataframe\">\n  <thead>\n    <tr style=\"text-align: right;\">\n      <th></th>\n      <th>Unnamed: 0</th>\n      <th>Product Name</th>\n      <th>Brand Name</th>\n      <th>Price</th>\n      <th>Rating</th>\n      <th>Reviews</th>\n      <th>Review Votes</th>\n      <th>Positively Rated</th>\n    </tr>\n  </thead>\n  <tbody>\n    <tr>\n      <th>1</th>\n      <td>34377</td>\n      <td>Apple iPhone 5c 8GB (Pink) - Verizon Wireless</td>\n      <td>Apple</td>\n      <td>194.99</td>\n      <td>1</td>\n      <td>The phone needed a SIM card, would have been n...</td>\n      <td>1.0</td>\n      <td>0</td>\n    </tr>\n    <tr>\n      <th>2</th>\n      <td>248521</td>\n      <td>Motorola Droid RAZR MAXX XT912 M Verizon Smart...</td>\n      <td>Motorola</td>\n      <td>174.99</td>\n      <td>5</td>\n      <td>I was 3 months away from my upgrade and my Str...</td>\n      <td>3.0</td>\n      <td>1</td>\n    </tr>\n    <tr>\n      <th>3</th>\n      <td>167661</td>\n      <td>CNPGD [U.S. Office Extended Warranty] Smartwat...</td>\n      <td>CNPGD</td>\n      <td>49.99</td>\n      <td>1</td>\n      <td>an experience i want to forget</td>\n      <td>0.0</td>\n      <td>0</td>\n    </tr>\n  </tbody>\n</table>\n</div>"
     },
     "metadata": {},
     "output_type": "execute_result",
     "execution_count": 2
    }
   ],
   "source": [
    "# Remove missing values\n",
    "df.dropna(inplace=True)\n",
    "\n",
    "# Drop reviews with neutral ratings\n",
    "df = df[df['Rating'] != 3]\n",
    "\n",
    "# Map ratings 4 and 5 to \"positive\" \n",
    "# Map ratings 1 and 2 to \"negative\"\n",
    "df['Positively Rated'] = np.where(df['Rating'] > 3, 1, 0)\n",
    "df.head(3)"
   ],
   "metadata": {
    "collapsed": false,
    "pycharm": {
     "name": "#%%\n",
     "is_executing": false
    }
   }
  },
  {
   "cell_type": "code",
   "source": [
    "# Most ratings are positive\n",
    "df['Positively Rated'].mean()"
   ],
   "metadata": {
    "collapsed": false,
    "pycharm": {
     "name": "#%%\n",
     "is_executing": false
    }
   },
   "execution_count": 3,
   "outputs": [
    {
     "data": {
      "text/plain": "0.7475328055525431"
     },
     "metadata": {},
     "output_type": "execute_result",
     "execution_count": 3
    }
   ]
  },
  {
   "cell_type": "code",
   "execution_count": 4,
   "outputs": [],
   "source": [
    "\n",
    "# Split data into training and test sets\n",
    "X_train, X_test, y_train, y_test = train_test_split(df['Reviews'], \n",
    "                                                    df['Positively Rated'], \n",
    "                                                    random_state=0)"
   ],
   "metadata": {
    "collapsed": false,
    "pycharm": {
     "name": "#%%\n",
     "is_executing": false
    }
   }
  },
  {
   "cell_type": "code",
   "source": [
    "print('X_train first entry:\\n\\n', X_train.iloc[0])\n",
    "print('\\n\\nX_train shape: ', X_train.shape)"
   ],
   "metadata": {
    "collapsed": false,
    "pycharm": {
     "name": "#%%\n",
     "is_executing": false
    }
   },
   "execution_count": 5,
   "outputs": [
    {
     "name": "stdout",
     "text": [
      "X_train first entry:\n\n my daughter loves this phone,thanks\n\n\nX_train shape:  (27663,)\n"
     ],
     "output_type": "stream"
    }
   ]
  },
  {
   "cell_type": "markdown",
   "source": [
    "# CountVectorizer"
   ],
   "metadata": {
    "collapsed": false,
    "pycharm": {
     "name": "#%% md\n",
     "is_executing": false
    }
   }
  },
  {
   "cell_type": "code",
   "source": [
    "\n",
    "# Fit the CountVectorizer to the training data\n",
    "vect = CountVectorizer().fit(X_train)"
   ],
   "metadata": {
    "collapsed": false,
    "pycharm": {
     "name": "#%%\n",
     "is_executing": false
    }
   },
   "execution_count": 6,
   "outputs": []
  },
  {
   "cell_type": "code",
   "execution_count": 7,
   "outputs": [
    {
     "data": {
      "text/plain": "['00',\n '8hrs',\n 'anti',\n 'biometric',\n 'chao',\n 'costco',\n 'dinamico',\n 'envió',\n 'flicking',\n 'guadalajara',\n 'increment',\n 'launch',\n 'mgpx',\n 'object',\n 'phonen',\n 'purposes',\n 'responded',\n 'sharing',\n 'steffy',\n 'thinn',\n 'updating',\n 'work4']"
     },
     "metadata": {},
     "output_type": "execute_result",
     "execution_count": 7
    }
   ],
   "source": [
    "feature_names = vect.get_feature_names()\n",
    "feature_names[::1000]\n",
    "# vect.get_feature_names()[::2000]"
   ],
   "metadata": {
    "collapsed": false,
    "pycharm": {
     "name": "#%%\n",
     "is_executing": false
    }
   }
  },
  {
   "cell_type": "markdown",
   "source": [
    "Number of features generated"
   ],
   "metadata": {
    "collapsed": false
   }
  },
  {
   "cell_type": "code",
   "source": [
    "len(vect.get_feature_names())"
   ],
   "metadata": {
    "collapsed": false,
    "pycharm": {
     "name": "#%%\n",
     "is_executing": false
    }
   },
   "execution_count": 8,
   "outputs": [
    {
     "data": {
      "text/plain": "21344"
     },
     "metadata": {},
     "output_type": "execute_result",
     "execution_count": 8
    }
   ]
  },
  {
   "cell_type": "code",
   "execution_count": 9,
   "outputs": [
    {
     "data": {
      "text/plain": "<27663x21344 sparse matrix of type '<class 'numpy.int64'>'\n\twith 733003 stored elements in Compressed Sparse Row format>"
     },
     "metadata": {},
     "output_type": "execute_result",
     "execution_count": 9
    }
   ],
   "source": [
    "# transform the documents in the training data to a document-term matrix\n",
    "X_train_vectorized = vect.transform(X_train)\n",
    "X_train_vectorized"
   ],
   "metadata": {
    "collapsed": false,
    "pycharm": {
     "name": "#%%\n",
     "is_executing": false
    }
   }
  },
  {
   "cell_type": "code",
   "execution_count": 10,
   "outputs": [
    {
     "name": "stderr",
     "text": [
      "/home/amarov/proj/taw2019/lib/python3.5/site-packages/sklearn/linear_model/logistic.py:432: FutureWarning: Default solver will be changed to 'lbfgs' in 0.22. Specify a solver to silence this warning.\n  FutureWarning)\n"
     ],
     "output_type": "stream"
    },
    {
     "data": {
      "text/plain": "LogisticRegression(C=1.0, class_weight=None, dual=False, fit_intercept=True,\n                   intercept_scaling=1, l1_ratio=None, max_iter=100,\n                   multi_class='warn', n_jobs=None, penalty='l2',\n                   random_state=None, solver='warn', tol=0.0001, verbose=0,\n                   warm_start=False)"
     },
     "metadata": {},
     "output_type": "execute_result",
     "execution_count": 10
    }
   ],
   "source": [
    "# Train the model\n",
    "logreg = LogisticRegression()\n",
    "logreg.fit(X_train_vectorized, y_train)"
   ],
   "metadata": {
    "collapsed": false,
    "pycharm": {
     "name": "#%%\n",
     "is_executing": false
    }
   }
  },
  {
   "cell_type": "markdown",
   "source": [
    "Compute the ROC curve and plot it. Compute the area under the ROC curve."
   ],
   "metadata": {
    "collapsed": false
   }
  },
  {
   "cell_type": "code",
   "execution_count": 11,
   "outputs": [
    {
     "name": "stdout",
     "text": [
      "AUC:  0.89608861784919\n"
     ],
     "output_type": "stream"
    },
    {
     "data": {
      "text/plain": "<Figure size 432x288 with 1 Axes>",
      "image/png": "[encoded data removed]"
     },
     "metadata": {
      "needs_background": "light"
     },
     "output_type": "display_data"
    }
   ],
   "source": [
    "# Predict the transformed test documents\n",
    "predictions = logreg.predict(vect.transform(X_test))\n",
    "logreg_probs = logreg.predict_proba(vect.transform(X_test))\n",
    "logreg_positive_probs = [p[1] for p in logreg_probs]\n",
    "\n",
    "fpr, tpr, thresholds = roc_curve(y_test, logreg_positive_probs)\n",
    "\n",
    "## Predicted probabilities from the logistic regression model\n",
    "print('AUC: ', roc_auc_score(y_test, predictions))\n",
    "\n",
    "def plot_roc(fpr, tpr):\n",
    "    plt.plot(fpr, tpr, color='orange', label='ROC')\n",
    "    plt.plot([0, 1], [0, 1], color='black', linestyle='--')\n",
    "    plt.xlabel('False Positive Rate')\n",
    "    plt.ylabel('True Positive Rate')\n",
    "    plt.title('Logistic regression model: ROC curve')\n",
    "    plt.legend()\n",
    "    plt.show()\n",
    "    \n",
    "plot_roc(fpr, tpr)"
   ],
   "metadata": {
    "collapsed": false,
    "pycharm": {
     "name": "#%%\n",
     "is_executing": false
    }
   }
  },
  {
   "cell_type": "code",
   "execution_count": 12,
   "outputs": [
    {
     "name": "stdout",
     "text": [
      "Smallest Coefs:\n['worst' 'terrible' 'waste' 'junk' 'sucks' 'horrible' 'broken' 'slow'\n 'useless' 'poor']\n\nLargest Coefs: \n['excelent' 'excelente' 'excellent' 'love' 'perfect' 'loves' 'perfectly'\n 'great' 'amazing' 'wonderful']\n"
     ],
     "output_type": "stream"
    }
   ],
   "source": [
    "# get the feature names as numpy array\n",
    "feature_names = np.array(vect.get_feature_names())\n",
    "\n",
    "# Sort the coefficients from the model\n",
    "sorted_coef_index = logreg.coef_[0].argsort()\n",
    "\n",
    "# Find the 10 smallest and 10 largest coefficients\n",
    "# The 10 largest coefficients are being indexed using [:-11:-1] \n",
    "# so the list returned is in order of largest to smallest\n",
    "print('Smallest Coefs:\\n{}\\n'.format(feature_names[sorted_coef_index[:10]]))\n",
    "print('Largest Coefs: \\n{}'.format(feature_names[sorted_coef_index[:-11:-1]]))"
   ],
   "metadata": {
    "collapsed": false,
    "pycharm": {
     "name": "#%%\n",
     "is_executing": false
    }
   }
  },
  {
   "cell_type": "markdown",
   "source": [
    "# TF-IDF\n",
    "\n",
    "Fit another logistic regression model. This time vectorize using the DF-IDF vectorization."
   ],
   "metadata": {
    "collapsed": false
   }
  },
  {
   "cell_type": "code",
   "execution_count": 13,
   "outputs": [
    {
     "data": {
      "text/plain": "5959"
     },
     "metadata": {},
     "output_type": "execute_result",
     "execution_count": 13
    }
   ],
   "source": [
    "\n",
    "# Fit the TfidfVectorizer to the training data specifiying a minimum document frequency of 5\n",
    "idf_vect = TfidfVectorizer(min_df=5).fit(X_train)\n",
    "len(idf_vect.get_feature_names())"
   ],
   "metadata": {
    "collapsed": false,
    "pycharm": {
     "name": "#%%\n",
     "is_executing": false
    }
   }
  },
  {
   "cell_type": "code",
   "execution_count": 14,
   "outputs": [
    {
     "name": "stderr",
     "text": [
      "/home/amarov/proj/taw2019/lib/python3.5/site-packages/sklearn/linear_model/logistic.py:432: FutureWarning: Default solver will be changed to 'lbfgs' in 0.22. Specify a solver to silence this warning.\n  FutureWarning)\n"
     ],
     "output_type": "stream"
    },
    {
     "name": "stdout",
     "text": [
      "AUC:  0.89608861784919\n"
     ],
     "output_type": "stream"
    }
   ],
   "source": [
    "X_train_vectorized_idf = idf_vect.transform(X_train)\n",
    "\n",
    "model = LogisticRegression()\n",
    "model.fit(X_train_vectorized_idf, y_train)\n",
    "\n",
    "predictions_idf = model.predict(idf_vect.transform(X_test))\n",
    "\n",
    "roc_score = roc_auc_score(y_test, predictions_idf)\n",
    "roc_score\n",
    "    \n",
    "print('AUC: ', roc_auc_score(y_test, predictions))\n",
    "\n",
    "#roc_curve()"
   ],
   "metadata": {
    "collapsed": false,
    "pycharm": {
     "name": "#%%\n",
     "is_executing": false
    }
   }
  },
  {
   "cell_type": "code",
   "execution_count": 15,
   "outputs": [
    {
     "name": "stdout",
     "text": [
      "Smallest tfidf:\n['judicious' 'outsources' 'outsourced' 'outsource' 'outsmarts' 'outshines'\n 'outshine' 'outstand' 'outset' 'outright']\n\nLargest tfidf: \n['the' 'and' 'this' 'to' 'it' 'is' 'phone' 'you' 'iphone' 'for']\n"
     ],
     "output_type": "stream"
    }
   ],
   "source": [
    "feature_names = np.array(vect.get_feature_names())\n",
    "\n",
    "sorted_tfidf_index = X_train_vectorized.max(0).toarray()[0].argsort()\n",
    "\n",
    "print('Smallest tfidf:\\n{}\\n'.format(feature_names[sorted_tfidf_index[:10]]))\n",
    "print('Largest tfidf: \\n{}'.format(feature_names[sorted_tfidf_index[:-11:-1]]))"
   ],
   "metadata": {
    "collapsed": false,
    "pycharm": {
     "name": "#%%\n",
     "is_executing": false
    }
   }
  },
  {
   "cell_type": "code",
   "execution_count": 16,
   "outputs": [
    {
     "name": "stdout",
     "text": [
      "Smallest Coefs:\n['bummed' 'contacts' 'dials' 'ahhh' 'colors' 'afterwards' 'cuenta'\n 'bugdroid' 'b01deyyd5g' 'descricion']\n\nLargest Coefs: \n['attended' 'bloat' 'andissues' 'capturing' '4core' 'atd' 'antutu' 'chalk'\n '24am' '3845']\n"
     ],
     "output_type": "stream"
    }
   ],
   "source": [
    "sorted_coef_index = model.coef_[0].argsort()\n",
    "\n",
    "print('Smallest Coefs:\\n{}\\n'.format(feature_names[sorted_coef_index[:10]]))\n",
    "print('Largest Coefs: \\n{}'.format(feature_names[sorted_coef_index[:-11:-1]]))"
   ],
   "metadata": {
    "collapsed": false,
    "pycharm": {
     "name": "#%%\n",
     "is_executing": false
    }
   }
  },
  {
   "cell_type": "code",
   "execution_count": 17,
   "outputs": [
    {
     "name": "stdout",
     "text": [
      "[0 0]\n"
     ],
     "output_type": "stream"
    }
   ],
   "source": [
    "# These reviews are treated the same by our current model\n",
    "print(model.predict(idf_vect.transform(['not an issue, phone is working',\n",
    "                                    'an issue, phone is not working'])))"
   ],
   "metadata": {
    "collapsed": false,
    "pycharm": {
     "name": "#%%\n",
     "is_executing": false
    }
   }
  },
  {
   "cell_type": "markdown",
   "source": [
    "# n-grams\n",
    "\n",
    "Fit a third logistic regression model using "
   ],
   "metadata": {
    "collapsed": false
   }
  },
  {
   "cell_type": "code",
   "execution_count": null,
   "outputs": [],
   "source": [
    "# Fit the CountVectorizer to the training data specifiying a minimum \n",
    "# document frequency of 5 and extracting 1-grams and 2-grams\n",
    "vect = CountVectorizer(min_df=5, ngram_range=(1,2)).fit(X_train)\n",
    "\n",
    "X_train_vectorized = vect.transform(X_train)\n",
    "\n",
    "len(vect.get_feature_names())"
   ],
   "metadata": {
    "collapsed": false,
    "pycharm": {
     "name": "#%%\n",
     "is_executing": true
    }
   }
  },
  {
   "cell_type": "code",
   "execution_count": null,
   "outputs": [],
   "source": [
    "model = LogisticRegression()\n",
    "model.fit(X_train_vectorized, y_train)\n",
    "\n",
    "predictions = model.predict(vect.transform(X_test))\n",
    "\n",
    "print('AUC: ', roc_auc_score(y_test, predictions))"
   ],
   "metadata": {
    "collapsed": false,
    "pycharm": {
     "name": "#%%\n",
     "is_executing": true
    }
   }
  },
  {
   "cell_type": "code",
   "execution_count": null,
   "outputs": [],
   "source": [
    "feature_names = np.array(vect.get_feature_names())\n",
    "\n",
    "sorted_coef_index = model.coef_[0].argsort()\n",
    "\n",
    "print('Smallest Coefs:\\n{}\\n'.format(feature_names[sorted_coef_index[:10]]))\n",
    "print('Largest Coefs: \\n{}'.format(feature_names[sorted_coef_index[:-11:-1]]))"
   ],
   "metadata": {
    "collapsed": false,
    "pycharm": {
     "name": "#%%\n",
     "is_executing": true
    }
   }
  },
  {
   "cell_type": "code",
   "execution_count": null,
   "outputs": [],
   "source": [
    "# These reviews are now correctly identified\n",
    "print(model.predict(vect.transform(['not an issue, phone is working',\n",
    "                                    'an issue, phone is not working'])))"
   ],
   "metadata": {
    "collapsed": false,
    "pycharm": {
     "name": "#%%\n",
     "is_executing": true
    }
   }
  }
 ],
 "metadata": {
  "kernelspec": {
   "name": "python3",
   "language": "python",
   "display_name": "Python 3"
  },
  "language_info": {
   "codemirror_mode": {
    "name": "ipython",
    "version": 2
   },
   "file_extension": ".py",
   "mimetype": "text/x-python",
   "name": "python",
   "nbconvert_exporter": "python",
   "pygments_lexer": "ipython2",
   "version": "2.7.6"
  },
  "pycharm": {
   "stem_cell": {
    "cell_type": "raw",
    "source": [],
    "metadata": {
     "collapsed": false
    }
   }
  }
 },
 "nbformat": 4,
 "nbformat_minor": 0
}