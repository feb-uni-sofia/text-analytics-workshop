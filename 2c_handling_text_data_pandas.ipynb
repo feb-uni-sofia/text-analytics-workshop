{
 "cells": [
  {
   "cell_type": "markdown",
   "metadata": {},
   "source": [
    "## Handling text data in pandas"
   ]
  },
  {
   "cell_type": "code",
   "execution_count": 29,
   "metadata": {
    "scrolled": true,
    "pycharm": {
     "is_executing": false
    }
   },
   "outputs": [
    {
     "data": {
      "text/plain": "                                                text\n0     Monday: The doctor's appointment is at 2:45pm.\n1  Tuesday: The dentist's appointment is at 11:30...\n2  Wednesday: At 7:00pm, there is a basketball game!\n3  Thursday: Be back home by 11:15 pm at the latest.\n4  Friday: Take the train at 08:10 am, arrive at ...",
      "text/html": "<div>\n<style scoped>\n    .dataframe tbody tr th:only-of-type {\n        vertical-align: middle;\n    }\n\n    .dataframe tbody tr th {\n        vertical-align: top;\n    }\n\n    .dataframe thead th {\n        text-align: right;\n    }\n</style>\n<table border=\"1\" class=\"dataframe\">\n  <thead>\n    <tr style=\"text-align: right;\">\n      <th></th>\n      <th>text</th>\n    </tr>\n  </thead>\n  <tbody>\n    <tr>\n      <th>0</th>\n      <td>Monday: The doctor's appointment is at 2:45pm.</td>\n    </tr>\n    <tr>\n      <th>1</th>\n      <td>Tuesday: The dentist's appointment is at 11:30...</td>\n    </tr>\n    <tr>\n      <th>2</th>\n      <td>Wednesday: At 7:00pm, there is a basketball game!</td>\n    </tr>\n    <tr>\n      <th>3</th>\n      <td>Thursday: Be back home by 11:15 pm at the latest.</td>\n    </tr>\n    <tr>\n      <th>4</th>\n      <td>Friday: Take the train at 08:10 am, arrive at ...</td>\n    </tr>\n  </tbody>\n</table>\n</div>"
     },
     "metadata": {},
     "output_type": "execute_result",
     "execution_count": 29
    }
   ],
   "source": [
    "import pandas as pd\n",
    "\n",
    "time_sentences = [\"Monday: The doctor's appointment is at 2:45pm.\", \n",
    "                  \"Tuesday: The dentist's appointment is at 11:30 am.\",\n",
    "                  \"Wednesday: At 7:00pm, there is a basketball game!\",\n",
    "                  \"Thursday: Be back home by 11:15 pm at the latest.\",\n",
    "                  \"Friday: Take the train at 08:10 am, arrive at 09:00am.\"]\n",
    "\n",
    "df = pd.DataFrame(time_sentences, columns=['text'])\n",
    "df"
   ]
  },
  {
   "cell_type": "markdown",
   "source": [
    "Find the number of characters for each entry in the text column"
   ],
   "metadata": {
    "collapsed": false
   }
  },
  {
   "cell_type": "code",
   "execution_count": 30,
   "outputs": [
    {
     "data": {
      "text/plain": "0    46\n1    50\n2    49\n3    49\n4    54\nName: text, dtype: int64"
     },
     "metadata": {},
     "output_type": "execute_result",
     "execution_count": 30
    }
   ],
   "source": [
    "df['text'].str.len()"
   ],
   "metadata": {
    "collapsed": false,
    "pycharm": {
     "name": "#%%\n",
     "is_executing": false
    }
   }
  },
  {
   "cell_type": "markdown",
   "source": [
    "Find the number of words (as defined by split by whitespace)"
   ],
   "metadata": {
    "collapsed": false
   }
  },
  {
   "cell_type": "code",
   "execution_count": 31,
   "outputs": [
    {
     "data": {
      "text/plain": "0     7\n1     8\n2     8\n3    10\n4    10\nName: text, dtype: int64"
     },
     "metadata": {},
     "output_type": "execute_result",
     "execution_count": 31
    }
   ],
   "source": [
    "words = df['text'].str.split().str.len()\n",
    "words"
   ],
   "metadata": {
    "collapsed": false,
    "pycharm": {
     "name": "#%%\n",
     "is_executing": false
    }
   }
  },
  {
   "cell_type": "code",
   "execution_count": 31,
   "metadata": {
    "pycharm": {
     "is_executing": false
    }
   },
   "outputs": [],
   "source": []
  },
  {
   "cell_type": "markdown",
   "source": [
    "    Find which records contain the word \"train\"."
   ],
   "metadata": {
    "collapsed": false
   }
  },
  {
   "cell_type": "code",
   "execution_count": 32,
   "outputs": [
    {
     "data": {
      "text/plain": "0    False\n1    False\n2    False\n3    False\n4     True\nName: text, dtype: bool"
     },
     "metadata": {},
     "output_type": "execute_result",
     "execution_count": 32
    }
   ],
   "source": [
    "# find which entries contain the word 'appointment'\n",
    "df['text'].str.contains('train')"
   ],
   "metadata": {
    "collapsed": false,
    "pycharm": {
     "name": "#%%\n",
     "is_executing": false
    }
   }
  },
  {
   "cell_type": "code",
   "execution_count": 33,
   "metadata": {
    "pycharm": {
     "is_executing": false
    }
   },
   "outputs": [
    {
     "data": {
      "text/plain": "0    3\n1    4\n2    3\n3    4\n4    8\nName: text, dtype: int64"
     },
     "metadata": {},
     "output_type": "execute_result",
     "execution_count": 33
    }
   ],
   "source": [
    "# find how many times a digit occurs in each string\n",
    "df['text'].str.count(r'\\d')"
   ]
  },
  {
   "cell_type": "code",
   "execution_count": 34,
   "metadata": {
    "pycharm": {
     "is_executing": false
    }
   },
   "outputs": [
    {
     "data": {
      "text/plain": "0                   [2, 4, 5]\n1                [1, 1, 3, 0]\n2                   [7, 0, 0]\n3                [1, 1, 1, 5]\n4    [0, 8, 1, 0, 0, 9, 0, 0]\nName: text, dtype: object"
     },
     "metadata": {},
     "output_type": "execute_result",
     "execution_count": 34
    }
   ],
   "source": [
    "# find all occurances of the digits\n",
    "df['text'].str.findall(r'\\d')"
   ]
  },
  {
   "cell_type": "code",
   "execution_count": 35,
   "metadata": {
    "pycharm": {
     "is_executing": false
    }
   },
   "outputs": [
    {
     "data": {
      "text/plain": "0               [(2, 45)]\n1              [(11, 30)]\n2               [(7, 00)]\n3              [(11, 15)]\n4    [(08, 10), (09, 00)]\nName: text, dtype: object"
     },
     "metadata": {},
     "output_type": "execute_result",
     "execution_count": 35
    }
   ],
   "source": [
    "# group and find the hours and minutes\n",
    "df['text'].str.findall(r'(\\d?\\d):(\\d\\d)')"
   ]
  },
  {
   "cell_type": "code",
   "execution_count": 36,
   "metadata": {
    "pycharm": {
     "is_executing": false
    }
   },
   "outputs": [
    {
     "data": {
      "text/plain": "0          ???: The doctor's appointment is at 2:45pm.\n1       ???: The dentist's appointment is at 11:30 am.\n2          ???: At 7:00pm, there is a basketball game!\n3         ???: Be back home by 11:15 pm at the latest.\n4    ???: Take the train at 08:10 am, arrive at 09:...\nName: text, dtype: object"
     },
     "metadata": {},
     "output_type": "execute_result",
     "execution_count": 36
    }
   ],
   "source": [
    "# replace weekdays with 'XXX'\n",
    "df['text'].str.replace(r'\\w+day\\b', 'XXX')"
   ]
  },
  {
   "cell_type": "code",
   "execution_count": 37,
   "metadata": {
    "pycharm": {
     "is_executing": false
    }
   },
   "outputs": [
    {
     "data": {
      "text/plain": "0          Mon: The doctor's appointment is at 2:45pm.\n1       Tue: The dentist's appointment is at 11:30 am.\n2          Wed: At 7:00pm, there is a basketball game!\n3         Thu: Be back home by 11:15 pm at the latest.\n4    Fri: Take the train at 08:10 am, arrive at 09:...\nName: text, dtype: object"
     },
     "metadata": {},
     "output_type": "execute_result",
     "execution_count": 37
    }
   ],
   "source": [
    "# replace weekdays with 3 letter abbrevations\n",
    "df['text'].str.replace(r'(\\w+day\\b)', lambda x: x.groups()[0][:3])"
   ]
  },
  {
   "cell_type": "code",
   "execution_count": 38,
   "metadata": {
    "pycharm": {
     "is_executing": false
    }
   },
   "outputs": [
    {
     "data": {
      "text/plain": "    0   1\n0   2  45\n1  11  30\n2   7  00\n3  11  15\n4  08  10",
      "text/html": "<div>\n<style scoped>\n    .dataframe tbody tr th:only-of-type {\n        vertical-align: middle;\n    }\n\n    .dataframe tbody tr th {\n        vertical-align: top;\n    }\n\n    .dataframe thead th {\n        text-align: right;\n    }\n</style>\n<table border=\"1\" class=\"dataframe\">\n  <thead>\n    <tr style=\"text-align: right;\">\n      <th></th>\n      <th>0</th>\n      <th>1</th>\n    </tr>\n  </thead>\n  <tbody>\n    <tr>\n      <th>0</th>\n      <td>2</td>\n      <td>45</td>\n    </tr>\n    <tr>\n      <th>1</th>\n      <td>11</td>\n      <td>30</td>\n    </tr>\n    <tr>\n      <th>2</th>\n      <td>7</td>\n      <td>00</td>\n    </tr>\n    <tr>\n      <th>3</th>\n      <td>11</td>\n      <td>15</td>\n    </tr>\n    <tr>\n      <th>4</th>\n      <td>08</td>\n      <td>10</td>\n    </tr>\n  </tbody>\n</table>\n</div>"
     },
     "metadata": {},
     "output_type": "execute_result",
     "execution_count": 38
    }
   ],
   "source": [
    "# create new columns from first match of extracted groups\n",
    "df['text'].str.extract(r'(\\d?\\d):(\\d\\d)')"
   ]
  },
  {
   "cell_type": "code",
   "execution_count": 39,
   "metadata": {
    "pycharm": {
     "is_executing": false
    }
   },
   "outputs": [
    {
     "data": {
      "text/plain": "                0   1   2   3\n  match                      \n0 0        2:45pm   2  45  pm\n1 0      11:30 am  11  30  am\n2 0        7:00pm   7  00  pm\n3 0      11:15 pm  11  15  pm\n4 0      08:10 am  08  10  am\n  1       09:00am  09  00  am",
      "text/html": "<div>\n<style scoped>\n    .dataframe tbody tr th:only-of-type {\n        vertical-align: middle;\n    }\n\n    .dataframe tbody tr th {\n        vertical-align: top;\n    }\n\n    .dataframe thead th {\n        text-align: right;\n    }\n</style>\n<table border=\"1\" class=\"dataframe\">\n  <thead>\n    <tr style=\"text-align: right;\">\n      <th></th>\n      <th></th>\n      <th>0</th>\n      <th>1</th>\n      <th>2</th>\n      <th>3</th>\n    </tr>\n    <tr>\n      <th></th>\n      <th>match</th>\n      <th></th>\n      <th></th>\n      <th></th>\n      <th></th>\n    </tr>\n  </thead>\n  <tbody>\n    <tr>\n      <th>0</th>\n      <th>0</th>\n      <td>2:45pm</td>\n      <td>2</td>\n      <td>45</td>\n      <td>pm</td>\n    </tr>\n    <tr>\n      <th>1</th>\n      <th>0</th>\n      <td>11:30 am</td>\n      <td>11</td>\n      <td>30</td>\n      <td>am</td>\n    </tr>\n    <tr>\n      <th>2</th>\n      <th>0</th>\n      <td>7:00pm</td>\n      <td>7</td>\n      <td>00</td>\n      <td>pm</td>\n    </tr>\n    <tr>\n      <th>3</th>\n      <th>0</th>\n      <td>11:15 pm</td>\n      <td>11</td>\n      <td>15</td>\n      <td>pm</td>\n    </tr>\n    <tr>\n      <th rowspan=\"2\" valign=\"top\">4</th>\n      <th>0</th>\n      <td>08:10 am</td>\n      <td>08</td>\n      <td>10</td>\n      <td>am</td>\n    </tr>\n    <tr>\n      <th>1</th>\n      <td>09:00am</td>\n      <td>09</td>\n      <td>00</td>\n      <td>am</td>\n    </tr>\n  </tbody>\n</table>\n</div>"
     },
     "metadata": {},
     "output_type": "execute_result",
     "execution_count": 39
    }
   ],
   "source": [
    "# extract the entire time, the hours, the minutes, and the period\n",
    "df['text'].str.extractall(r'((\\d?\\d):(\\d\\d) ?([ap]m))')"
   ]
  },
  {
   "cell_type": "code",
   "execution_count": 40,
   "metadata": {
    "pycharm": {
     "is_executing": false
    }
   },
   "outputs": [
    {
     "data": {
      "text/plain": "             time hour minute period\n  match                             \n0 0        2:45pm    2     45     pm\n1 0      11:30 am   11     30     am\n2 0        7:00pm    7     00     pm\n3 0      11:15 pm   11     15     pm\n4 0      08:10 am   08     10     am\n  1       09:00am   09     00     am",
      "text/html": "<div>\n<style scoped>\n    .dataframe tbody tr th:only-of-type {\n        vertical-align: middle;\n    }\n\n    .dataframe tbody tr th {\n        vertical-align: top;\n    }\n\n    .dataframe thead th {\n        text-align: right;\n    }\n</style>\n<table border=\"1\" class=\"dataframe\">\n  <thead>\n    <tr style=\"text-align: right;\">\n      <th></th>\n      <th></th>\n      <th>time</th>\n      <th>hour</th>\n      <th>minute</th>\n      <th>period</th>\n    </tr>\n    <tr>\n      <th></th>\n      <th>match</th>\n      <th></th>\n      <th></th>\n      <th></th>\n      <th></th>\n    </tr>\n  </thead>\n  <tbody>\n    <tr>\n      <th>0</th>\n      <th>0</th>\n      <td>2:45pm</td>\n      <td>2</td>\n      <td>45</td>\n      <td>pm</td>\n    </tr>\n    <tr>\n      <th>1</th>\n      <th>0</th>\n      <td>11:30 am</td>\n      <td>11</td>\n      <td>30</td>\n      <td>am</td>\n    </tr>\n    <tr>\n      <th>2</th>\n      <th>0</th>\n      <td>7:00pm</td>\n      <td>7</td>\n      <td>00</td>\n      <td>pm</td>\n    </tr>\n    <tr>\n      <th>3</th>\n      <th>0</th>\n      <td>11:15 pm</td>\n      <td>11</td>\n      <td>15</td>\n      <td>pm</td>\n    </tr>\n    <tr>\n      <th rowspan=\"2\" valign=\"top\">4</th>\n      <th>0</th>\n      <td>08:10 am</td>\n      <td>08</td>\n      <td>10</td>\n      <td>am</td>\n    </tr>\n    <tr>\n      <th>1</th>\n      <td>09:00am</td>\n      <td>09</td>\n      <td>00</td>\n      <td>am</td>\n    </tr>\n  </tbody>\n</table>\n</div>"
     },
     "metadata": {},
     "output_type": "execute_result",
     "execution_count": 40
    }
   ],
   "source": [
    "# extract the entire time, the hours, the minutes, and the period with group names\n",
    "df['text'].str.extractall(r'(?P<time>(?P<hour>\\d?\\d):(?P<minute>\\d\\d) ?(?P<period>[ap]m))')"
   ]
  }
 ],
 "metadata": {
  "kernelspec": {
   "display_name": "Python 3",
   "language": "python",
   "name": "python3"
  },
  "language_info": {
   "codemirror_mode": {
    "name": "ipython",
    "version": 3
   },
   "file_extension": ".py",
   "mimetype": "text/x-python",
   "name": "python",
   "nbconvert_exporter": "python",
   "pygments_lexer": "ipython3",
   "version": "3.6.0"
  },
  "pycharm": {
   "stem_cell": {
    "cell_type": "raw",
    "source": [],
    "metadata": {
     "collapsed": false
    }
   }
  }
 },
 "nbformat": 4,
 "nbformat_minor": 2
}